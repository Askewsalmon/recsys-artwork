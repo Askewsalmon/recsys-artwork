{
 "cells": [
  {
   "cell_type": "code",
   "execution_count": 462,
   "metadata": {},
   "outputs": [],
   "source": [
    "import pandas as pd\n",
    "import torch\n",
    "import torch.nn.functional as F\n",
    "from torch.nn import GRU\n",
    "import numpy as np"
   ]
  },
  {
   "cell_type": "code",
   "execution_count": 463,
   "metadata": {},
   "outputs": [],
   "source": [
    "users_df = pd.read_csv(\"../dataset/users.csv\", sep=\";\")\n",
    "artworks_df = pd.read_csv(\"../dataset/artworks.csv\", sep=\";\")"
   ]
  },
  {
   "cell_type": "code",
   "execution_count": 464,
   "metadata": {},
   "outputs": [],
   "source": [
    "comments = []\n",
    "for idx, row in artworks_df.iterrows():\n",
    "    for col in artworks_df.columns:\n",
    "        if col.startswith(\"comment_\") and not pd.isna(row[col]):\n",
    "            comment = eval(row[col])\n",
    "            for c in comment:\n",
    "                comments.append(\n",
    "                    {\n",
    "                        \"user_name\": c[\"comment_author\"],\n",
    "                        \"artwork_title\": row[\"title\"],\n",
    "                        \"timestamp\": c[\"comment_date\"],\n",
    "                    }\n",
    "                )"
   ]
  },
  {
   "cell_type": "code",
   "execution_count": 465,
   "metadata": {},
   "outputs": [
    {
     "name": "stderr",
     "output_type": "stream",
     "text": [
      "C:\\Users\\LorenzoStancato\\AppData\\Local\\Temp\\ipykernel_6696\\2488800568.py:7: FutureWarning: A value is trying to be set on a copy of a DataFrame or Series through chained assignment using an inplace method.\n",
      "The behavior will change in pandas 3.0. This inplace method will never work because the intermediate object on which we are setting values always behaves as a copy.\n",
      "\n",
      "For example, when doing 'df[col].method(value, inplace=True)', try using 'df.method({col: value}, inplace=True)' or df[col] = df[col].method(value) instead, to perform the operation inplace on the original object.\n",
      "\n",
      "\n",
      "  interactions_df[\"timestamp\"].replace(\"N/A\", \"01/01/1970\", inplace=True)\n"
     ]
    }
   ],
   "source": [
    "interactions_df = pd.DataFrame(comments)\n",
    "user_map = {name: idx for idx, name in enumerate(users_df[\"name\"].unique())}\n",
    "artwork_map = {\n",
    "    title: idx + len(user_map)\n",
    "    for idx, title in enumerate(artworks_df[\"title\"].unique())\n",
    "}\n",
    "interactions_df[\"timestamp\"].replace(\"N/A\", \"01/01/1970\", inplace=True)\n",
    "interactions_df[\"timestamp\"] = (\n",
    "    pd.to_datetime(interactions_df[\"timestamp\"], format=\"%d/%m/%Y\")\n",
    ")\n",
    "interactions_df[\"timestamp\"] = interactions_df[\"timestamp\"].astype(\"int64\") // 10**9\n",
    "source_nodes = interactions_df[\"user_name\"].map(user_map).tolist()\n",
    "destination_nodes = interactions_df[\"artwork_title\"].map(artwork_map).tolist()\n",
    "timestamps = interactions_df[\"timestamp\"].tolist()"
   ]
  },
  {
   "cell_type": "code",
   "execution_count": 466,
   "metadata": {},
   "outputs": [],
   "source": [
    "num_nodes = len(user_map) + len(artwork_map)\n",
    "memory_dim = 128  \n",
    "embedding_dim = 128"
   ]
  },
  {
   "cell_type": "code",
   "execution_count": 467,
   "metadata": {},
   "outputs": [],
   "source": [
    "node_memory = torch.zeros((num_nodes, memory_dim), dtype=torch.float)\n",
    "node_embeddings = torch.zeros((num_nodes, embedding_dim), dtype=torch.float)\n",
    "last_update = torch.zeros(num_nodes, dtype=torch.long)"
   ]
  },
  {
   "cell_type": "code",
   "execution_count": 468,
   "metadata": {},
   "outputs": [],
   "source": [
    "num_heads = 4\n",
    "attention_weights = torch.nn.Parameter(\n",
    "    torch.randn(num_heads, embedding_dim , embedding_dim )\n",
    ")\n",
    "time_encoding_weights = torch.nn.Parameter(\n",
    "    torch.randn(num_heads, embedding_dim)\n",
    ")\n",
    "\n",
    "\n",
    "def multi_head_attention(source_emb, neighbor_embs, delta_times):\n",
    "    delta_times = delta_times.unsqueeze(1).repeat(1, num_heads, 1)\n",
    "    time_encoding = torch.sin(delta_times.unsqueeze(2) * time_encoding_weights)\n",
    "    attention_scores = []\n",
    "    for head in range(num_heads):\n",
    "        head_attention_scores = source_emb @ attention_weights[head]\n",
    "        print(f\"head_attention_scores: {head_attention_scores.shape}\")\n",
    "        print(\n",
    "            \"time_encoding[:, head, :].squeeze(1) shape:\",\n",
    "            time_encoding[:, head, :].squeeze(1).shape,\n",
    "        )\n",
    "        head_attention_scores += time_encoding[:, head, :]\n",
    "        attention_scores.append(F.softmax(head_attention_scores, dim=1))\n",
    "    aggregated_embedding = torch.cat(\n",
    "        [\n",
    "            torch.sum(attn.unsqueeze(2) * neighbor_embs, dim=1)\n",
    "            for attn in attention_scores\n",
    "        ],\n",
    "        dim=1,\n",
    "    )\n",
    "\n",
    "    return aggregated_embedding"
   ]
  },
  {
   "cell_type": "code",
   "execution_count": 469,
   "metadata": {},
   "outputs": [],
   "source": [
    "decay_rate = torch.nn.Parameter(torch.ones(1))\n",
    "def handle_staleness(last_update, current_time, memory):\n",
    "    time_diff = current_time - last_update\n",
    "    decay_factor = torch.exp(-decay_rate * time_diff.unsqueeze(1).float())\n",
    "    decayed_memory = memory * decay_factor\n",
    "    return decayed_memory"
   ]
  },
  {
   "cell_type": "code",
   "execution_count": 470,
   "metadata": {},
   "outputs": [],
   "source": [
    "gru = GRU(input_size=memory_dim + embedding_dim, hidden_size=memory_dim)\n",
    "def update_memory_gru(message, memory):\n",
    "    message = message.unsqueeze(0)  \n",
    "    memory = memory.unsqueeze(0)  \n",
    "    updated_memory, _ = gru(message, memory)\n",
    "    return updated_memory.squeeze(0)"
   ]
  },
  {
   "cell_type": "code",
   "execution_count": 471,
   "metadata": {},
   "outputs": [],
   "source": [
    "norm_weights = torch.nn.Parameter(torch.randn(embedding_dim))\n",
    "def normalize_time(delta_times):\n",
    "    normalized_time = delta_times.unsqueeze(1) * norm_weights\n",
    "    return torch.exp(-normalized_time)"
   ]
  },
  {
   "cell_type": "code",
   "execution_count": 472,
   "metadata": {},
   "outputs": [],
   "source": [
    "W_memory = torch.randn((memory_dim + embedding_dim, memory_dim), requires_grad=True)\n",
    "b_memory = torch.zeros(memory_dim, requires_grad=True)\n",
    "\n",
    "W_output = torch.randn((memory_dim, 1), requires_grad=True)\n",
    "b_output = torch.zeros(1, requires_grad=True)"
   ]
  },
  {
   "cell_type": "code",
   "execution_count": 473,
   "metadata": {},
   "outputs": [],
   "source": [
    "def clean_nodes(nodes):\n",
    "    nodes = [-1 if np.isnan(x) else int(x) for x in nodes]\n",
    "    return nodes"
   ]
  },
  {
   "cell_type": "code",
   "execution_count": 474,
   "metadata": {},
   "outputs": [],
   "source": [
    "def process_batch(\n",
    "    source_nodes,\n",
    "    destination_nodes,\n",
    "    timestamps,\n",
    "    last_update,\n",
    "    node_memory,\n",
    "    current_time,\n",
    "):\n",
    "    source_nodes = clean_nodes(source_nodes)\n",
    "    destination_nodes = clean_nodes(destination_nodes)\n",
    "    valid_indices = [\n",
    "        i for i, s in enumerate(source_nodes) if s != -1 and destination_nodes[i] != -1\n",
    "    ]\n",
    "    if len(valid_indices) == 0:\n",
    "        return node_memory\n",
    "    source_nodes = torch.tensor(\n",
    "        [source_nodes[i] for i in valid_indices], dtype=torch.long\n",
    "    )\n",
    "    destination_nodes = torch.tensor(\n",
    "        [destination_nodes[i] for i in valid_indices], dtype=torch.long\n",
    "    )\n",
    "    timestamps = torch.tensor([timestamps[i] for i in valid_indices], dtype=torch.long)\n",
    "    source_memory = node_memory[source_nodes]\n",
    "    destination_memory = node_memory[destination_nodes]\n",
    "    delta_times = timestamps - last_update[source_nodes]\n",
    "    source_memory = handle_staleness(\n",
    "        last_update[source_nodes], current_time, source_memory\n",
    "    )\n",
    "    normalized_time = normalize_time(delta_times)\n",
    "    aggregated_embedding = multi_head_attention(\n",
    "        source_memory, destination_memory, normalized_time\n",
    "    )\n",
    "    updated_memory = torch.tanh(aggregated_embedding @ W_memory + b_memory)\n",
    "    node_memory[source_nodes] = updated_memory\n",
    "\n",
    "    return node_memory"
   ]
  },
  {
   "cell_type": "code",
   "execution_count": 475,
   "metadata": {},
   "outputs": [],
   "source": [
    "optimizer = torch.optim.Adam(\n",
    "    [\n",
    "        W_memory,\n",
    "        b_memory,\n",
    "        W_output,\n",
    "        b_output,\n",
    "        decay_rate,\n",
    "        norm_weights,\n",
    "        attention_weights,\n",
    "        time_encoding_weights,\n",
    "    ],\n",
    "    lr=0.001,\n",
    ")"
   ]
  },
  {
   "cell_type": "code",
   "execution_count": 476,
   "metadata": {},
   "outputs": [
    {
     "name": "stdout",
     "output_type": "stream",
     "text": [
      "head_attention_scores: torch.Size([3, 128])\n",
      "time encoding: torch.Size([3, 4, 128])\n"
     ]
    },
    {
     "ename": "RuntimeError",
     "evalue": "The size of tensor a (3) must match the size of tensor b (4) at non-singleton dimension 1",
     "output_type": "error",
     "traceback": [
      "\u001b[1;31m---------------------------------------------------------------------------\u001b[0m",
      "\u001b[1;31mRuntimeError\u001b[0m                              Traceback (most recent call last)",
      "Cell \u001b[1;32mIn[476], line 11\u001b[0m\n\u001b[0;32m      9\u001b[0m batch_dest \u001b[38;5;241m=\u001b[39m destination_nodes[i : i \u001b[38;5;241m+\u001b[39m batch_size]\n\u001b[0;32m     10\u001b[0m batch_times \u001b[38;5;241m=\u001b[39m timestamps[i : i \u001b[38;5;241m+\u001b[39m batch_size]\n\u001b[1;32m---> 11\u001b[0m node_memory \u001b[38;5;241m=\u001b[39m \u001b[43mprocess_batch\u001b[49m\u001b[43m(\u001b[49m\n\u001b[0;32m     12\u001b[0m \u001b[43m    \u001b[49m\u001b[43mbatch_source\u001b[49m\u001b[43m,\u001b[49m\n\u001b[0;32m     13\u001b[0m \u001b[43m    \u001b[49m\u001b[43mbatch_dest\u001b[49m\u001b[43m,\u001b[49m\n\u001b[0;32m     14\u001b[0m \u001b[43m    \u001b[49m\u001b[43mbatch_times\u001b[49m\u001b[43m,\u001b[49m\n\u001b[0;32m     15\u001b[0m \u001b[43m    \u001b[49m\u001b[43mlast_update\u001b[49m\u001b[43m,\u001b[49m\n\u001b[0;32m     16\u001b[0m \u001b[43m    \u001b[49m\u001b[43mnode_memory\u001b[49m\u001b[43m,\u001b[49m\n\u001b[0;32m     17\u001b[0m \u001b[43m    \u001b[49m\u001b[43mcurrent_time\u001b[49m\u001b[43m,\u001b[49m\n\u001b[0;32m     18\u001b[0m \u001b[43m\u001b[49m\u001b[43m)\u001b[49m\n\u001b[0;32m     19\u001b[0m src_emb \u001b[38;5;241m=\u001b[39m node_memory[batch_source]\n\u001b[0;32m     20\u001b[0m dst_emb \u001b[38;5;241m=\u001b[39m node_memory[batch_dest]\n",
      "Cell \u001b[1;32mIn[474], line 30\u001b[0m, in \u001b[0;36mprocess_batch\u001b[1;34m(source_nodes, destination_nodes, timestamps, last_update, node_memory, current_time)\u001b[0m\n\u001b[0;32m     26\u001b[0m source_memory \u001b[38;5;241m=\u001b[39m handle_staleness(\n\u001b[0;32m     27\u001b[0m     last_update[source_nodes], current_time, source_memory\n\u001b[0;32m     28\u001b[0m )\n\u001b[0;32m     29\u001b[0m normalized_time \u001b[38;5;241m=\u001b[39m normalize_time(delta_times)\n\u001b[1;32m---> 30\u001b[0m aggregated_embedding \u001b[38;5;241m=\u001b[39m \u001b[43mmulti_head_attention\u001b[49m\u001b[43m(\u001b[49m\n\u001b[0;32m     31\u001b[0m \u001b[43m    \u001b[49m\u001b[43msource_memory\u001b[49m\u001b[43m,\u001b[49m\u001b[43m \u001b[49m\u001b[43mdestination_memory\u001b[49m\u001b[43m,\u001b[49m\u001b[43m \u001b[49m\u001b[43mnormalized_time\u001b[49m\n\u001b[0;32m     32\u001b[0m \u001b[43m\u001b[49m\u001b[43m)\u001b[49m\n\u001b[0;32m     33\u001b[0m updated_memory \u001b[38;5;241m=\u001b[39m torch\u001b[38;5;241m.\u001b[39mtanh(aggregated_embedding \u001b[38;5;241m@\u001b[39m W_memory \u001b[38;5;241m+\u001b[39m b_memory)\n\u001b[0;32m     34\u001b[0m node_memory[source_nodes] \u001b[38;5;241m=\u001b[39m updated_memory\n",
      "Cell \u001b[1;32mIn[468], line 18\u001b[0m, in \u001b[0;36mmulti_head_attention\u001b[1;34m(source_emb, neighbor_embs, delta_times)\u001b[0m\n\u001b[0;32m     16\u001b[0m     \u001b[38;5;28mprint\u001b[39m(\u001b[38;5;124mf\u001b[39m\u001b[38;5;124m\"\u001b[39m\u001b[38;5;124mhead_attention_scores: \u001b[39m\u001b[38;5;132;01m{\u001b[39;00mhead_attention_scores\u001b[38;5;241m.\u001b[39mshape\u001b[38;5;132;01m}\u001b[39;00m\u001b[38;5;124m\"\u001b[39m)\n\u001b[0;32m     17\u001b[0m     \u001b[38;5;28mprint\u001b[39m(\u001b[38;5;124mf\u001b[39m\u001b[38;5;124m\"\u001b[39m\u001b[38;5;124mtime encoding: \u001b[39m\u001b[38;5;132;01m{\u001b[39;00mtime_encoding[:,\u001b[38;5;250m \u001b[39mhead,\u001b[38;5;250m \u001b[39m:]\u001b[38;5;241m.\u001b[39mshape\u001b[38;5;132;01m}\u001b[39;00m\u001b[38;5;124m\"\u001b[39m)\n\u001b[1;32m---> 18\u001b[0m     \u001b[43mhead_attention_scores\u001b[49m\u001b[43m \u001b[49m\u001b[38;5;241;43m+\u001b[39;49m\u001b[38;5;241;43m=\u001b[39;49m\u001b[43m \u001b[49m\u001b[43mtime_encoding\u001b[49m\u001b[43m[\u001b[49m\u001b[43m:\u001b[49m\u001b[43m,\u001b[49m\u001b[43m \u001b[49m\u001b[43mhead\u001b[49m\u001b[43m,\u001b[49m\u001b[43m \u001b[49m\u001b[43m:\u001b[49m\u001b[43m]\u001b[49m\n\u001b[0;32m     19\u001b[0m     attention_scores\u001b[38;5;241m.\u001b[39mappend(F\u001b[38;5;241m.\u001b[39msoftmax(head_attention_scores, dim\u001b[38;5;241m=\u001b[39m\u001b[38;5;241m1\u001b[39m))\n\u001b[0;32m     20\u001b[0m aggregated_embedding \u001b[38;5;241m=\u001b[39m torch\u001b[38;5;241m.\u001b[39mcat(\n\u001b[0;32m     21\u001b[0m     [\n\u001b[0;32m     22\u001b[0m         torch\u001b[38;5;241m.\u001b[39msum(attn\u001b[38;5;241m.\u001b[39munsqueeze(\u001b[38;5;241m2\u001b[39m) \u001b[38;5;241m*\u001b[39m neighbor_embs, dim\u001b[38;5;241m=\u001b[39m\u001b[38;5;241m1\u001b[39m)\n\u001b[1;32m   (...)\u001b[0m\n\u001b[0;32m     25\u001b[0m     dim\u001b[38;5;241m=\u001b[39m\u001b[38;5;241m1\u001b[39m,\n\u001b[0;32m     26\u001b[0m )\n",
      "\u001b[1;31mRuntimeError\u001b[0m: The size of tensor a (3) must match the size of tensor b (4) at non-singleton dimension 1"
     ]
    }
   ],
   "source": [
    "num_epochs = 5\n",
    "batch_size = 32\n",
    "for epoch in range(num_epochs):\n",
    "    total_loss = 0.0\n",
    "    current_time = timestamps[-1] \n",
    "\n",
    "    for i in range(0, len(source_nodes), batch_size):\n",
    "        batch_source = source_nodes[i : i + batch_size]\n",
    "        batch_dest = destination_nodes[i : i + batch_size]\n",
    "        batch_times = timestamps[i : i + batch_size]\n",
    "        node_memory = process_batch(\n",
    "            batch_source,\n",
    "            batch_dest,\n",
    "            batch_times,\n",
    "            last_update,\n",
    "            node_memory,\n",
    "            current_time,\n",
    "        )\n",
    "        src_emb = node_memory[batch_source]\n",
    "        dst_emb = node_memory[batch_dest]\n",
    "        score = (src_emb * dst_emb).sum(dim=1) @ W_output + b_output\n",
    "\n",
    "        label = torch.ones(batch_size)\n",
    "        loss = F.binary_cross_entropy_with_logits(score.squeeze(), label)\n",
    "        optimizer.zero_grad()\n",
    "        loss.backward()\n",
    "        optimizer.step()\n",
    "\n",
    "        total_loss += loss.item()\n",
    "\n",
    "    print(f\"Epoch {epoch+1}/{num_epochs}, Loss: {total_loss/len(source_nodes)}\")"
   ]
  },
  {
   "cell_type": "code",
   "execution_count": null,
   "metadata": {},
   "outputs": [],
   "source": [
    "def recommend_artworks(user_name, top_k=5):\n",
    "    user_idx = user_map.get(user_name)\n",
    "    if user_idx is None:\n",
    "        print(\"Utente non trovato.\")\n",
    "        return []\n",
    "\n",
    "    user_memory = node_memory[user_idx]\n",
    "    artwork_indices = torch.arange(len(user_map), num_nodes)\n",
    "    user_emb = user_memory.unsqueeze(0)\n",
    "    artworks_memory = node_memory[artwork_indices]\n",
    "    scores = (user_emb * artworks_memory).sum(dim=1) @ W_output + b_output\n",
    "    top_scores, top_indices = torch.topk(scores, k=top_k)\n",
    "    recommended_artworks = [\n",
    "        list(artwork_map.keys())[i - len(user_map)] for i in top_indices.tolist()\n",
    "    ]\n",
    "\n",
    "    return recommended_artworks"
   ]
  },
  {
   "cell_type": "code",
   "execution_count": null,
   "metadata": {},
   "outputs": [],
   "source": [
    "user_to_recommend = \"exarobibliologist\" \n",
    "recommendations = recommend_artworks(user_to_recommend)\n",
    "print(f\"Raccomandazioni per {user_to_recommend}: {recommendations}\")"
   ]
  }
 ],
 "metadata": {
  "kernelspec": {
   "display_name": "Python 3",
   "language": "python",
   "name": "python3"
  },
  "language_info": {
   "codemirror_mode": {
    "name": "ipython",
    "version": 3
   },
   "file_extension": ".py",
   "mimetype": "text/x-python",
   "name": "python",
   "nbconvert_exporter": "python",
   "pygments_lexer": "ipython3",
   "version": "3.12.2"
  }
 },
 "nbformat": 4,
 "nbformat_minor": 2
}
